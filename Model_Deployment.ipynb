{
  "cells": [
    {
      "cell_type": "markdown",
      "metadata": {
        "id": "SKsEYRKMIXz6"
      },
      "source": [
        "# Hunting Exoplanets In Space - Deploying A Prediction Model"
      ]
    },
    {
      "cell_type": "markdown",
      "metadata": {
        "id": "YdmZPtYSn7kA"
      },
      "source": [
        "The prediction model, through the training dataset, will learn the properties of a star that has a planet and also the properties of a star which does not have a planet. Once the model has learnt the required properties, it will look for these properties in the test dataset and according to the properties it sees, it will predict whether a star has a planet or not.\n",
        "\n",
        "We will deploy the **Random Forest Classifier** model (a machine learning algorithm). Machine learning is a branch of artificial intelligence in which a machine learns through data the different features on its own without being programmed by a computer programmer.\n",
        "\n",
        "\n",
        "<img src='https://student-datasets-bucket.s3.ap-south-1.amazonaws.com/images/lesson-14/ml-vs-ai.png' width=700>\n",
        "\n",
        "In this case, the machine will learn to recognise the flux values of stars having a planet on its own. When a new dataset containing only the flux values of a star is shown to the machine, it will tell the star having a planet and not having a planet.\n",
        "\n",
        "There are many machine learning models or algorithms to do this kind of prediction. One of them is **Random Forest Classifier**. It is used to classify outcomes into classes (or labels) based on some features. For e.g., an animal that makes a 'Meow! Meow!' sound is classified (or labelled) as a cat, an animal that makes a 'Woof! Woof!' sound is classified as a dog, an animal which makes a hissing sound is classified as a snake etc.\n",
        "\n",
        "We will use the Random Forest Classifier model to classify whether a star has a planet or not. The stars which have at least one planet are labelled as `2` while the stars not having a planet are labelled as `1`."
      ]
    },
    {
      "cell_type": "markdown",
      "metadata": {
        "id": "eq9mAtEg9cpZ"
      },
      "source": [
        "---"
      ]
    },
    {
      "cell_type": "markdown",
      "metadata": {
        "id": "OwzryU6Zie33"
      },
      "source": [
        "#### Loading The Training Dataset\n",
        "\n",
        "(Use the Links to the (or download) datasets are too large to upload here)\n",
        "\n",
        "Dataset links:\n",
        "\n",
        "1. Train dataset\n",
        "   \n",
        "   https://student-datasets-bucket.s3.ap-south-1.amazonaws.com/whitehat-ds-datasets/kepler-exoplanets-dataset/exoTrain.csv\n",
        "\n",
        "2. Test dataset\n",
        "   \n",
        "   https://student-datasets-bucket.s3.ap-south-1.amazonaws.com/whitehat-ds-datasets/kepler-exoplanets-dataset/exoTest.csv"
      ]
    },
    {
      "cell_type": "code",
      "execution_count": 1,
      "metadata": {
        "id": "zjScdqmQstFg"
      },
      "outputs": [],
      "source": [
        "# Loading both the training and test datasets.\n",
        "import pandas as pd\n",
        "\n",
        "exo_train_df = pd.read_csv('https://student-datasets-bucket.s3.ap-south-1.amazonaws.com/whitehat-ds-datasets/kepler-exoplanets-dataset/exoTrain.csv')\n",
        "exo_test_df = pd.read_csv('https://student-datasets-bucket.s3.ap-south-1.amazonaws.com/whitehat-ds-datasets/kepler-exoplanets-dataset/exoTest.csv')"
      ]
    },
    {
      "cell_type": "markdown",
      "metadata": {},
      "source": [
        "---"
      ]
    },
    {
      "cell_type": "markdown",
      "metadata": {},
      "source": [
        "#### Random Forest Classifier - Working\n",
        "\n",
        "A Random Forest is a collection (a.k.a. ensemble) of many decision trees. A decision tree is a flow chart which separates data based on some condition. If a condition is true, you move on a path otherwise, you move on to another path.\n",
        "\n",
        "\n",
        "For e.g., in case of finding a star having a planet, you can construct the following decision tree:\n",
        "\n",
        "<img src='https://student-datasets-bucket.s3.ap-south-1.amazonaws.com/images/lesson-14/decision-tree.png' width=600>\n",
        "\n",
        "You could ask a question whether there is decrease in the flux values of a star. If the answer is no, then it clearly means the star does not have a planet. However, if the answer is yes, then you could ask another question to check whether the decrease is periodic or not. Again, if the answer is no, then the star does not have a planet. Otherwise, it has a planet.\n",
        "\n",
        "This is one of the examples of a decision tree. Based on a problem, the decision tree could get more and more complex.\n",
        "\n",
        "A collection of `N` number of trees is a random forest wherein each tree gives some predicted value (in this case either class `1` or class `2`).\n",
        "\n",
        "<img src='https://student-datasets-bucket.s3.ap-south-1.amazonaws.com/images/lesson-14/rfc-image.jpg' width=800>\n",
        "\n",
        "The final predicted value is the majority class, i.e, the class that is predicted by the most number of decision trees in a random forest.\n",
        "\n",
        "For the time being, just consider the Random Forest Classifier as some kind of a black-box which classifies data into different classes (in this case, either class `1` or class `2`) by learning the properties of every class through a training dataset."
      ]
    },
    {
      "cell_type": "markdown",
      "metadata": {
        "id": "ob_UHtcNaE-s"
      },
      "source": [
        "---"
      ]
    },
    {
      "cell_type": "markdown",
      "metadata": {},
      "source": [
        "#### In Our Context"
      ]
    },
    {
      "cell_type": "markdown",
      "metadata": {
        "id": "8l7BTsS7LNLE"
      },
      "source": [
        "There are `565` stars which are classified as `1` and `5` stars classified as `2` which means only `5` stars have a planet. Interestingly, if our prediction model mindlessly classifies every star as `1`, then it is a very accurate model. Why?\n",
        "\n",
        "Because the accuracy of a model is calculated as **a percentage of the correct predictions out of the total number of predictions**. In this case, the percentage of the correct predictions is\n",
        "\n",
        " $\\frac{565\\times100}{570} = 99.122$ %\n",
        "\n",
        "Thus, without actually deploying a proper prediction model, we can predict the stars having a planet with 99% accuracy.\n",
        "\n",
        "This is **WRONG**! This is where we need to be careful. Because we have very imbalanced data. The ultimate goal of the Kepler space telescope is to detect exoplanets in outer space. Hence, a machine learning model, based on some data should also **correctly** detect stars having planets. This means a prediction model will be considered useful if it correctly detects almost all the stars having a planet.\n",
        "\n",
        "So, the prediction model which always labels every star as `1` is useless. Because it must detect almost all the stars having a planet.\n",
        "\n",
        "Now, we are going to deploy the Random Forest Classifier model so that it can detect all the five (or at least three) stars having a planet."
      ]
    },
    {
      "cell_type": "markdown",
      "metadata": {
        "id": "5zr_egypdy1R"
      },
      "source": [
        "---"
      ]
    },
    {
      "cell_type": "markdown",
      "metadata": {},
      "source": [
        "### **Understanding Random Forest Classifier**\n",
        "\n",
        "#### Introduction  \n",
        "The **Random Forest Classifier** is an ensemble learning algorithm that improves prediction accuracy by combining multiple decision trees. It is widely used for classification and regression tasks due to its high accuracy, robustness, and ability to handle large datasets.  \n",
        "\n",
        "#### How It Works  \n",
        "1. **Bootstrap Sampling (Bagging)**: The dataset is randomly sampled with replacement to create multiple subsets.  \n",
        "2. **Decision Tree Training**: Each subset is used to train an independent decision tree.  \n",
        "3. **Random Feature Selection**: Instead of using all features, each tree selects a random subset of features at each split.  \n",
        "4. **Majority Voting (Classification)**: For a classification task, each tree predicts a class, and the most common class (majority vote) is chosen as the final prediction.  \n",
        "5. **Averaging (Regression)**: For regression tasks, the final prediction is the average of all tree predictions.  \n",
        "\n",
        "#### Key Concepts  \n",
        "\n",
        "#### 1. **Ensemble Learning**  \n",
        "Random Forest is an **ensemble method**, meaning it combines multiple weak learners (decision trees) to form a stronger model, reducing the risk of overfitting.  \n",
        "\n",
        "#### 2. **Feature Randomness**  \n",
        "Unlike a single decision tree that considers all features, Random Forest introduces randomness by selecting only a subset of features at each node split. This reduces correlation between trees, improving generalization.  \n",
        "\n",
        "#### 3. **Bias-Variance Tradeoff**  \n",
        "- A single decision tree has **low bias** but **high variance** (overfits the training data).  \n",
        "- Random Forest balances bias and variance by averaging multiple trees, leading to lower variance while maintaining reasonable bias.  \n",
        "\n",
        "#### 4. **Handling Imbalanced Data**  \n",
        "In datasets like exoplanet detection, where one class is significantly larger than the other, Random Forest can be adjusted using:  \n",
        "- **Class Weights**: Assigning higher weights to the minority class.  \n",
        "- **Downsampling or Upsampling**: Adjusting the dataset to balance class distribution.  \n",
        "\n",
        "#### Hyperparameters in Random Forest  \n",
        "\n",
        "| Hyperparameter | Description |\n",
        "|---------------|-------------|\n",
        "| `n_estimators` | Number of decision trees in the forest |\n",
        "| `max_depth` | Maximum depth of each tree (prevents overfitting) |\n",
        "| `min_samples_split` | Minimum samples required to split a node |\n",
        "| `min_samples_leaf` | Minimum samples required in a leaf node |\n",
        "| `max_features` | Number of features considered for best split |\n",
        "| `bootstrap` | Whether to sample with replacement |\n",
        "\n",
        "#### Advantages of Random Forest  \n",
        "✅ **Handles missing values** and outliers well  \n",
        "✅ **Prevents overfitting** with multiple trees  \n",
        "✅ **Works well with large datasets**  \n",
        "✅ **Reduces variance** compared to a single decision tree  \n",
        "✅ **Provides feature importance ranking**  \n",
        "\n",
        "#### Disadvantages of Random Forest  \n",
        "❌ **Computationally expensive** for very large datasets  \n",
        "❌ **Less interpretable** compared to a single decision tree  \n",
        "❌ **Not ideal for real-time applications** due to high inference time  \n",
        "\n",
        "#### Conclusion  \n",
        "Random Forest is a powerful classification model that excels in handling noisy and imbalanced data. By leveraging multiple decision trees and ensemble learning, it provides **high accuracy and robustness** while reducing overfitting. However, it requires careful tuning of hyperparameters to achieve optimal performance.  "
      ]
    },
    {
      "cell_type": "markdown",
      "metadata": {
        "id": "F3PeA6-AaO5J"
      },
      "source": [
        "#### Activity 2: Importing `RandomForestClassifier`\n",
        "\n",
        "We need to import a module called `RandomForestClassifier` from a package called `sklearn.ensemble`. The `sklearn` (or **scikit-learn**) is a collection of many machine learning modules. Almost every machine learning algorithm can be directly applied without a knowledge of math using the **scikit-learn** library. It is kind of a plug-and-play device.\n",
        "\n",
        "You can read about it in the link provided in the **Activities** section under the title **`scikit-learn` - Random Forest Classifier**\n"
      ]
    },
    {
      "cell_type": "code",
      "execution_count": 5,
      "metadata": {
        "id": "bjyPky3Hh0fu"
      },
      "outputs": [],
      "source": [
        "# Teacher Action: Import the required modules from the 'sklearn' library.\n",
        "# Import the 'RandomForestClassifier' module from the 'sklearn.ensemble' library.\n",
        "from sklearn.ensemble import RandomForestClassifier"
      ]
    },
    {
      "cell_type": "markdown",
      "metadata": {
        "id": "f8FljiKddvz9"
      },
      "source": [
        "---"
      ]
    },
    {
      "cell_type": "markdown",
      "metadata": {
        "id": "lP_x1sHBbWce"
      },
      "source": [
        "#### Activity 3: Target & Feature Variables Separation\n",
        "\n",
        "The `RandomForestClassifier` module has a function called `fit()` which takes two inputs. The first input is the collection of feature variables.\n",
        "\n",
        "*The features are those variables which describe the features or properties of an entity.* In this case, the `FLUX.1` to `FLUX.3197` are feature variables. Hence, the values stored in these columns are the features of a star in exoplanets dataset.\n",
        "\n",
        "The second input is the target variable.\n",
        "\n",
        "*The variable which needs to be predicted is called a target variable.* In this case, the `LABEL` is the target variable because the prediction model needs to predict which star belongs to which class in the test dataset. Hence, the values stored in the `LABEL` column are the target values.\n",
        "\n",
        "So, we need to extract the target variable and the feature variables separately from the training dataset.\n",
        "\n",
        "Let's store the feature variables in the `x_train` variable and the target variable in the `y_train` variable. We will separate the features using the `iloc[]` function.\n",
        "\n",
        "We need all the rows from the training set. So, inside the `iloc[]` function, we will enter the colon (`:`) sign to get all the rows. We do not need the first column, i.e., the `LABEL` column. Therefore, inside the `iloc[]` function, as part of column indexing, enter `1` as the starting index followed by the colon (`:`) sign to include the rest of the columns from the training dataset.\n"
      ]
    },
    {
      "cell_type": "code",
      "execution_count": 6,
      "metadata": {
        "colab": {
          "base_uri": "https://localhost:8080/",
          "height": 485
        },
        "id": "-4xbNQzYj_CM",
        "outputId": "13a48f89-e892-4cd3-98ad-df0d8f1a8e79"
      },
      "outputs": [
        {
          "data": {
            "text/html": [
              "<div>\n",
              "<style scoped>\n",
              "    .dataframe tbody tr th:only-of-type {\n",
              "        vertical-align: middle;\n",
              "    }\n",
              "\n",
              "    .dataframe tbody tr th {\n",
              "        vertical-align: top;\n",
              "    }\n",
              "\n",
              "    .dataframe thead th {\n",
              "        text-align: right;\n",
              "    }\n",
              "</style>\n",
              "<table border=\"1\" class=\"dataframe\">\n",
              "  <thead>\n",
              "    <tr style=\"text-align: right;\">\n",
              "      <th></th>\n",
              "      <th>FLUX.1</th>\n",
              "      <th>FLUX.2</th>\n",
              "      <th>FLUX.3</th>\n",
              "      <th>FLUX.4</th>\n",
              "      <th>FLUX.5</th>\n",
              "      <th>FLUX.6</th>\n",
              "      <th>FLUX.7</th>\n",
              "      <th>FLUX.8</th>\n",
              "      <th>FLUX.9</th>\n",
              "      <th>FLUX.10</th>\n",
              "      <th>...</th>\n",
              "      <th>FLUX.3188</th>\n",
              "      <th>FLUX.3189</th>\n",
              "      <th>FLUX.3190</th>\n",
              "      <th>FLUX.3191</th>\n",
              "      <th>FLUX.3192</th>\n",
              "      <th>FLUX.3193</th>\n",
              "      <th>FLUX.3194</th>\n",
              "      <th>FLUX.3195</th>\n",
              "      <th>FLUX.3196</th>\n",
              "      <th>FLUX.3197</th>\n",
              "    </tr>\n",
              "  </thead>\n",
              "  <tbody>\n",
              "    <tr>\n",
              "      <th>0</th>\n",
              "      <td>93.85</td>\n",
              "      <td>83.81</td>\n",
              "      <td>20.10</td>\n",
              "      <td>-26.98</td>\n",
              "      <td>-39.56</td>\n",
              "      <td>-124.71</td>\n",
              "      <td>-135.18</td>\n",
              "      <td>-96.27</td>\n",
              "      <td>-79.89</td>\n",
              "      <td>-160.17</td>\n",
              "      <td>...</td>\n",
              "      <td>-78.07</td>\n",
              "      <td>-102.15</td>\n",
              "      <td>-102.15</td>\n",
              "      <td>25.13</td>\n",
              "      <td>48.57</td>\n",
              "      <td>92.54</td>\n",
              "      <td>39.32</td>\n",
              "      <td>61.42</td>\n",
              "      <td>5.08</td>\n",
              "      <td>-39.54</td>\n",
              "    </tr>\n",
              "    <tr>\n",
              "      <th>1</th>\n",
              "      <td>-38.88</td>\n",
              "      <td>-33.83</td>\n",
              "      <td>-58.54</td>\n",
              "      <td>-40.09</td>\n",
              "      <td>-79.31</td>\n",
              "      <td>-72.81</td>\n",
              "      <td>-86.55</td>\n",
              "      <td>-85.33</td>\n",
              "      <td>-83.97</td>\n",
              "      <td>-73.38</td>\n",
              "      <td>...</td>\n",
              "      <td>-3.28</td>\n",
              "      <td>-32.21</td>\n",
              "      <td>-32.21</td>\n",
              "      <td>-24.89</td>\n",
              "      <td>-4.86</td>\n",
              "      <td>0.76</td>\n",
              "      <td>-11.70</td>\n",
              "      <td>6.46</td>\n",
              "      <td>16.00</td>\n",
              "      <td>19.93</td>\n",
              "    </tr>\n",
              "    <tr>\n",
              "      <th>2</th>\n",
              "      <td>532.64</td>\n",
              "      <td>535.92</td>\n",
              "      <td>513.73</td>\n",
              "      <td>496.92</td>\n",
              "      <td>456.45</td>\n",
              "      <td>466.00</td>\n",
              "      <td>464.50</td>\n",
              "      <td>486.39</td>\n",
              "      <td>436.56</td>\n",
              "      <td>484.39</td>\n",
              "      <td>...</td>\n",
              "      <td>-71.69</td>\n",
              "      <td>13.31</td>\n",
              "      <td>13.31</td>\n",
              "      <td>-29.89</td>\n",
              "      <td>-20.88</td>\n",
              "      <td>5.06</td>\n",
              "      <td>-11.80</td>\n",
              "      <td>-28.91</td>\n",
              "      <td>-70.02</td>\n",
              "      <td>-96.67</td>\n",
              "    </tr>\n",
              "    <tr>\n",
              "      <th>3</th>\n",
              "      <td>326.52</td>\n",
              "      <td>347.39</td>\n",
              "      <td>302.35</td>\n",
              "      <td>298.13</td>\n",
              "      <td>317.74</td>\n",
              "      <td>312.70</td>\n",
              "      <td>322.33</td>\n",
              "      <td>311.31</td>\n",
              "      <td>312.42</td>\n",
              "      <td>323.33</td>\n",
              "      <td>...</td>\n",
              "      <td>5.71</td>\n",
              "      <td>-3.73</td>\n",
              "      <td>-3.73</td>\n",
              "      <td>30.05</td>\n",
              "      <td>20.03</td>\n",
              "      <td>-12.67</td>\n",
              "      <td>-8.77</td>\n",
              "      <td>-17.31</td>\n",
              "      <td>-17.35</td>\n",
              "      <td>13.98</td>\n",
              "    </tr>\n",
              "    <tr>\n",
              "      <th>4</th>\n",
              "      <td>-1107.21</td>\n",
              "      <td>-1112.59</td>\n",
              "      <td>-1118.95</td>\n",
              "      <td>-1095.10</td>\n",
              "      <td>-1057.55</td>\n",
              "      <td>-1034.48</td>\n",
              "      <td>-998.34</td>\n",
              "      <td>-1022.71</td>\n",
              "      <td>-989.57</td>\n",
              "      <td>-970.88</td>\n",
              "      <td>...</td>\n",
              "      <td>-594.37</td>\n",
              "      <td>-401.66</td>\n",
              "      <td>-401.66</td>\n",
              "      <td>-357.24</td>\n",
              "      <td>-443.76</td>\n",
              "      <td>-438.54</td>\n",
              "      <td>-399.71</td>\n",
              "      <td>-384.65</td>\n",
              "      <td>-411.79</td>\n",
              "      <td>-510.54</td>\n",
              "    </tr>\n",
              "    <tr>\n",
              "      <th>...</th>\n",
              "      <td>...</td>\n",
              "      <td>...</td>\n",
              "      <td>...</td>\n",
              "      <td>...</td>\n",
              "      <td>...</td>\n",
              "      <td>...</td>\n",
              "      <td>...</td>\n",
              "      <td>...</td>\n",
              "      <td>...</td>\n",
              "      <td>...</td>\n",
              "      <td>...</td>\n",
              "      <td>...</td>\n",
              "      <td>...</td>\n",
              "      <td>...</td>\n",
              "      <td>...</td>\n",
              "      <td>...</td>\n",
              "      <td>...</td>\n",
              "      <td>...</td>\n",
              "      <td>...</td>\n",
              "      <td>...</td>\n",
              "      <td>...</td>\n",
              "    </tr>\n",
              "    <tr>\n",
              "      <th>5082</th>\n",
              "      <td>-91.91</td>\n",
              "      <td>-92.97</td>\n",
              "      <td>-78.76</td>\n",
              "      <td>-97.33</td>\n",
              "      <td>-68.00</td>\n",
              "      <td>-68.24</td>\n",
              "      <td>-75.48</td>\n",
              "      <td>-49.25</td>\n",
              "      <td>-30.92</td>\n",
              "      <td>-11.88</td>\n",
              "      <td>...</td>\n",
              "      <td>139.95</td>\n",
              "      <td>147.26</td>\n",
              "      <td>156.95</td>\n",
              "      <td>155.64</td>\n",
              "      <td>156.36</td>\n",
              "      <td>151.75</td>\n",
              "      <td>-24.45</td>\n",
              "      <td>-17.00</td>\n",
              "      <td>3.23</td>\n",
              "      <td>19.28</td>\n",
              "    </tr>\n",
              "    <tr>\n",
              "      <th>5083</th>\n",
              "      <td>989.75</td>\n",
              "      <td>891.01</td>\n",
              "      <td>908.53</td>\n",
              "      <td>851.83</td>\n",
              "      <td>755.11</td>\n",
              "      <td>615.78</td>\n",
              "      <td>595.77</td>\n",
              "      <td>458.87</td>\n",
              "      <td>492.84</td>\n",
              "      <td>384.34</td>\n",
              "      <td>...</td>\n",
              "      <td>-26.50</td>\n",
              "      <td>-4.84</td>\n",
              "      <td>-76.30</td>\n",
              "      <td>-37.84</td>\n",
              "      <td>-153.83</td>\n",
              "      <td>-136.16</td>\n",
              "      <td>38.03</td>\n",
              "      <td>100.28</td>\n",
              "      <td>-45.64</td>\n",
              "      <td>35.58</td>\n",
              "    </tr>\n",
              "    <tr>\n",
              "      <th>5084</th>\n",
              "      <td>273.39</td>\n",
              "      <td>278.00</td>\n",
              "      <td>261.73</td>\n",
              "      <td>236.99</td>\n",
              "      <td>280.73</td>\n",
              "      <td>264.90</td>\n",
              "      <td>252.92</td>\n",
              "      <td>254.88</td>\n",
              "      <td>237.60</td>\n",
              "      <td>238.51</td>\n",
              "      <td>...</td>\n",
              "      <td>-26.82</td>\n",
              "      <td>-53.89</td>\n",
              "      <td>-48.71</td>\n",
              "      <td>30.99</td>\n",
              "      <td>15.96</td>\n",
              "      <td>-3.47</td>\n",
              "      <td>65.73</td>\n",
              "      <td>88.42</td>\n",
              "      <td>79.07</td>\n",
              "      <td>79.43</td>\n",
              "    </tr>\n",
              "    <tr>\n",
              "      <th>5085</th>\n",
              "      <td>3.82</td>\n",
              "      <td>2.09</td>\n",
              "      <td>-3.29</td>\n",
              "      <td>-2.88</td>\n",
              "      <td>1.66</td>\n",
              "      <td>-0.75</td>\n",
              "      <td>3.85</td>\n",
              "      <td>-0.03</td>\n",
              "      <td>3.28</td>\n",
              "      <td>6.29</td>\n",
              "      <td>...</td>\n",
              "      <td>10.86</td>\n",
              "      <td>-3.23</td>\n",
              "      <td>-5.10</td>\n",
              "      <td>-4.61</td>\n",
              "      <td>-9.82</td>\n",
              "      <td>-1.50</td>\n",
              "      <td>-4.65</td>\n",
              "      <td>-14.55</td>\n",
              "      <td>-6.41</td>\n",
              "      <td>-2.55</td>\n",
              "    </tr>\n",
              "    <tr>\n",
              "      <th>5086</th>\n",
              "      <td>323.28</td>\n",
              "      <td>306.36</td>\n",
              "      <td>293.16</td>\n",
              "      <td>287.67</td>\n",
              "      <td>249.89</td>\n",
              "      <td>218.30</td>\n",
              "      <td>188.86</td>\n",
              "      <td>178.93</td>\n",
              "      <td>118.93</td>\n",
              "      <td>130.68</td>\n",
              "      <td>...</td>\n",
              "      <td>71.19</td>\n",
              "      <td>0.97</td>\n",
              "      <td>55.20</td>\n",
              "      <td>-1.63</td>\n",
              "      <td>-5.50</td>\n",
              "      <td>-25.33</td>\n",
              "      <td>-41.31</td>\n",
              "      <td>-16.72</td>\n",
              "      <td>-14.09</td>\n",
              "      <td>27.82</td>\n",
              "    </tr>\n",
              "  </tbody>\n",
              "</table>\n",
              "<p>5087 rows × 3197 columns</p>\n",
              "</div>"
            ],
            "text/plain": [
              "       FLUX.1   FLUX.2   FLUX.3   FLUX.4   FLUX.5   FLUX.6  FLUX.7   FLUX.8  \\\n",
              "0       93.85    83.81    20.10   -26.98   -39.56  -124.71 -135.18   -96.27   \n",
              "1      -38.88   -33.83   -58.54   -40.09   -79.31   -72.81  -86.55   -85.33   \n",
              "2      532.64   535.92   513.73   496.92   456.45   466.00  464.50   486.39   \n",
              "3      326.52   347.39   302.35   298.13   317.74   312.70  322.33   311.31   \n",
              "4    -1107.21 -1112.59 -1118.95 -1095.10 -1057.55 -1034.48 -998.34 -1022.71   \n",
              "...       ...      ...      ...      ...      ...      ...     ...      ...   \n",
              "5082   -91.91   -92.97   -78.76   -97.33   -68.00   -68.24  -75.48   -49.25   \n",
              "5083   989.75   891.01   908.53   851.83   755.11   615.78  595.77   458.87   \n",
              "5084   273.39   278.00   261.73   236.99   280.73   264.90  252.92   254.88   \n",
              "5085     3.82     2.09    -3.29    -2.88     1.66    -0.75    3.85    -0.03   \n",
              "5086   323.28   306.36   293.16   287.67   249.89   218.30  188.86   178.93   \n",
              "\n",
              "      FLUX.9  FLUX.10  ...  FLUX.3188  FLUX.3189  FLUX.3190  FLUX.3191  \\\n",
              "0     -79.89  -160.17  ...     -78.07    -102.15    -102.15      25.13   \n",
              "1     -83.97   -73.38  ...      -3.28     -32.21     -32.21     -24.89   \n",
              "2     436.56   484.39  ...     -71.69      13.31      13.31     -29.89   \n",
              "3     312.42   323.33  ...       5.71      -3.73      -3.73      30.05   \n",
              "4    -989.57  -970.88  ...    -594.37    -401.66    -401.66    -357.24   \n",
              "...      ...      ...  ...        ...        ...        ...        ...   \n",
              "5082  -30.92   -11.88  ...     139.95     147.26     156.95     155.64   \n",
              "5083  492.84   384.34  ...     -26.50      -4.84     -76.30     -37.84   \n",
              "5084  237.60   238.51  ...     -26.82     -53.89     -48.71      30.99   \n",
              "5085    3.28     6.29  ...      10.86      -3.23      -5.10      -4.61   \n",
              "5086  118.93   130.68  ...      71.19       0.97      55.20      -1.63   \n",
              "\n",
              "      FLUX.3192  FLUX.3193  FLUX.3194  FLUX.3195  FLUX.3196  FLUX.3197  \n",
              "0         48.57      92.54      39.32      61.42       5.08     -39.54  \n",
              "1         -4.86       0.76     -11.70       6.46      16.00      19.93  \n",
              "2        -20.88       5.06     -11.80     -28.91     -70.02     -96.67  \n",
              "3         20.03     -12.67      -8.77     -17.31     -17.35      13.98  \n",
              "4       -443.76    -438.54    -399.71    -384.65    -411.79    -510.54  \n",
              "...         ...        ...        ...        ...        ...        ...  \n",
              "5082     156.36     151.75     -24.45     -17.00       3.23      19.28  \n",
              "5083    -153.83    -136.16      38.03     100.28     -45.64      35.58  \n",
              "5084      15.96      -3.47      65.73      88.42      79.07      79.43  \n",
              "5085      -9.82      -1.50      -4.65     -14.55      -6.41      -2.55  \n",
              "5086      -5.50     -25.33     -41.31     -16.72     -14.09      27.82  \n",
              "\n",
              "[5087 rows x 3197 columns]"
            ]
          },
          "execution_count": 6,
          "metadata": {},
          "output_type": "execute_result"
        }
      ],
      "source": [
        "# Student Action: Extract the feature variables from the training dataset using the 'iloc[]' function.\n",
        "x_train = exo_train_df.iloc[:,1:]\n",
        "x_train"
      ]
    },
    {
      "cell_type": "markdown",
      "metadata": {
        "id": "VYlFRpMUoX0o"
      },
      "source": [
        "Now, let's get only the target variables from the training dataset."
      ]
    },
    {
      "cell_type": "code",
      "execution_count": 7,
      "metadata": {
        "colab": {
          "base_uri": "https://localhost:8080/"
        },
        "id": "Ow3bOVajkEos",
        "outputId": "5810b83e-a1e6-460c-a56c-79eecffa4a0b"
      },
      "outputs": [
        {
          "data": {
            "text/plain": [
              "0       2\n",
              "1       2\n",
              "2       2\n",
              "3       2\n",
              "4       2\n",
              "       ..\n",
              "5082    1\n",
              "5083    1\n",
              "5084    1\n",
              "5085    1\n",
              "5086    1\n",
              "Name: LABEL, Length: 5087, dtype: int64"
            ]
          },
          "execution_count": 7,
          "metadata": {},
          "output_type": "execute_result"
        }
      ],
      "source": [
        "# Student Action: Using the 'iloc[]' function, retrieve only the first column, i.e., the 'LABEL' column from the training dataset.\n",
        "y_train = exo_train_df.iloc[:,0]\n",
        "y_train"
      ]
    },
    {
      "cell_type": "markdown",
      "metadata": {
        "id": "t4c2YLzWdtiC"
      },
      "source": [
        "---"
      ]
    },
    {
      "cell_type": "markdown",
      "metadata": {
        "id": "CSKFSFb5gZge"
      },
      "source": [
        "#### Activity 4: Fitting The Model\n",
        "\n",
        "Now that we have separated the feature and target variables for deploying the `RandomForestClassifier` model, let's train the model with the feature variables using the `fit()` function. The steps to be followed are described below.\n",
        "\n",
        "1. First, call the `RandomForestClassifier` module with inputs as `n_jobs=-1` and `n_estimators=50`. Store the function in a variable with the name `rf_clf`.\n",
        "\n",
        "  For the time being, ignore the reason behind providing the `n_jobs=-1` parameter as an input.\n",
        "\n",
        "  ```\n",
        "  rf_clf = RandomForestClassifier(n_jobs=-1, n_estimators=50)\n",
        "  ```\n",
        "\n",
        "  The `n_estimators` parameter defines the number of decision trees in a Random Forest. Therefore, `n_estimators=50` means that the forest contains `50` decision trees. If `n_estimators` parameter is not defined by a user, then by default, the forest contains `100` decision trees.\n",
        "\n",
        "2. Call the `fit()` function with `x_train` and `y_train` as inputs.\n",
        "\n",
        "  ```\n",
        "  rf_clf.fit(x_train, y_train)\n",
        "  ```\n",
        "3. Call the `score()` function with `x_train` and `y_train` as inputs to check the accuracy score of the model. This step is actually not required. If you wish, you can skip this step.\n",
        "  \n",
        "  ```\n",
        "  rf_clf.score(x_train, y_train)\n",
        "  ```\n"
      ]
    },
    {
      "cell_type": "code",
      "execution_count": 8,
      "metadata": {
        "colab": {
          "base_uri": "https://localhost:8080/"
        },
        "id": "rAU1jEBVkHG1",
        "outputId": "24842761-1750-4b75-911c-48b8abd93339"
      },
      "outputs": [
        {
          "data": {
            "text/plain": [
              "1.0"
            ]
          },
          "execution_count": 8,
          "metadata": {},
          "output_type": "execute_result"
        }
      ],
      "source": [
        "# Teacher Action: Train the 'RandomForestClassifier' model using the 'fit()' function.\n",
        "rf_clf = RandomForestClassifier(n_jobs= -1, n_estimators = 570)\n",
        "# 1. First, call the 'RandomForestClassifier' module with inputs as 'n_jobs = - 1' & 'n_estimators=50'. Store it in a variable with the name 'rf_clf'.\n",
        "# For the time being, ignore the reason behind providing the 'n_jobs=-1' parameter as an input.\n",
        "\n",
        "# 2. Call the 'fit()' function with 'x_train' and 'y_train' as inputs.\n",
        "rf_clf.fit(x_train, y_train)\n",
        "# 3. Call the 'score()' function with 'x_train' and 'y_train' as inputs to check the accuracy score of the model.\n",
        "rf_clf.score(x_train, y_train)"
      ]
    },
    {
      "cell_type": "markdown",
      "metadata": {
        "id": "cKq3HlbxhU0k"
      },
      "source": [
        "As you can see, we have deployed the `RandomForestClassifier` model with an accuracy of 100% (the number `1.0` signifies 100% accuracy).\n"
      ]
    },
    {
      "cell_type": "markdown",
      "metadata": {
        "id": "NV57P4UFh1rt"
      },
      "source": [
        "---"
      ]
    },
    {
      "cell_type": "markdown",
      "metadata": {
        "id": "DIi2Gikph5HQ"
      },
      "source": [
        "#### Activity 5: Target & Feature Variables From Test Dataset^^\n",
        "\n",
        "Now we need to make predictions on the test dataset. So, we just need to extract feature variables from the test dataset using the `iloc[]` function."
      ]
    },
    {
      "cell_type": "code",
      "execution_count": 9,
      "metadata": {
        "colab": {
          "base_uri": "https://localhost:8080/",
          "height": 485
        },
        "id": "TN1nsa2qpr80",
        "outputId": "c739a053-8812-4e34-d881-aef827df7567"
      },
      "outputs": [
        {
          "data": {
            "text/html": [
              "<div>\n",
              "<style scoped>\n",
              "    .dataframe tbody tr th:only-of-type {\n",
              "        vertical-align: middle;\n",
              "    }\n",
              "\n",
              "    .dataframe tbody tr th {\n",
              "        vertical-align: top;\n",
              "    }\n",
              "\n",
              "    .dataframe thead th {\n",
              "        text-align: right;\n",
              "    }\n",
              "</style>\n",
              "<table border=\"1\" class=\"dataframe\">\n",
              "  <thead>\n",
              "    <tr style=\"text-align: right;\">\n",
              "      <th></th>\n",
              "      <th>FLUX.1</th>\n",
              "      <th>FLUX.2</th>\n",
              "      <th>FLUX.3</th>\n",
              "      <th>FLUX.4</th>\n",
              "      <th>FLUX.5</th>\n",
              "      <th>FLUX.6</th>\n",
              "      <th>FLUX.7</th>\n",
              "      <th>FLUX.8</th>\n",
              "      <th>FLUX.9</th>\n",
              "      <th>FLUX.10</th>\n",
              "      <th>...</th>\n",
              "      <th>FLUX.3188</th>\n",
              "      <th>FLUX.3189</th>\n",
              "      <th>FLUX.3190</th>\n",
              "      <th>FLUX.3191</th>\n",
              "      <th>FLUX.3192</th>\n",
              "      <th>FLUX.3193</th>\n",
              "      <th>FLUX.3194</th>\n",
              "      <th>FLUX.3195</th>\n",
              "      <th>FLUX.3196</th>\n",
              "      <th>FLUX.3197</th>\n",
              "    </tr>\n",
              "  </thead>\n",
              "  <tbody>\n",
              "    <tr>\n",
              "      <th>0</th>\n",
              "      <td>119.88</td>\n",
              "      <td>100.21</td>\n",
              "      <td>86.46</td>\n",
              "      <td>48.68</td>\n",
              "      <td>46.12</td>\n",
              "      <td>39.39</td>\n",
              "      <td>18.57</td>\n",
              "      <td>6.98</td>\n",
              "      <td>6.63</td>\n",
              "      <td>-21.97</td>\n",
              "      <td>...</td>\n",
              "      <td>14.52</td>\n",
              "      <td>19.29</td>\n",
              "      <td>14.44</td>\n",
              "      <td>-1.62</td>\n",
              "      <td>13.33</td>\n",
              "      <td>45.50</td>\n",
              "      <td>31.93</td>\n",
              "      <td>35.78</td>\n",
              "      <td>269.43</td>\n",
              "      <td>57.72</td>\n",
              "    </tr>\n",
              "    <tr>\n",
              "      <th>1</th>\n",
              "      <td>5736.59</td>\n",
              "      <td>5699.98</td>\n",
              "      <td>5717.16</td>\n",
              "      <td>5692.73</td>\n",
              "      <td>5663.83</td>\n",
              "      <td>5631.16</td>\n",
              "      <td>5626.39</td>\n",
              "      <td>5569.47</td>\n",
              "      <td>5550.44</td>\n",
              "      <td>5458.80</td>\n",
              "      <td>...</td>\n",
              "      <td>-581.91</td>\n",
              "      <td>-984.09</td>\n",
              "      <td>-1230.89</td>\n",
              "      <td>-1600.45</td>\n",
              "      <td>-1824.53</td>\n",
              "      <td>-2061.17</td>\n",
              "      <td>-2265.98</td>\n",
              "      <td>-2366.19</td>\n",
              "      <td>-2294.86</td>\n",
              "      <td>-2034.72</td>\n",
              "    </tr>\n",
              "    <tr>\n",
              "      <th>2</th>\n",
              "      <td>844.48</td>\n",
              "      <td>817.49</td>\n",
              "      <td>770.07</td>\n",
              "      <td>675.01</td>\n",
              "      <td>605.52</td>\n",
              "      <td>499.45</td>\n",
              "      <td>440.77</td>\n",
              "      <td>362.95</td>\n",
              "      <td>207.27</td>\n",
              "      <td>150.46</td>\n",
              "      <td>...</td>\n",
              "      <td>17.82</td>\n",
              "      <td>-51.66</td>\n",
              "      <td>-48.29</td>\n",
              "      <td>-59.99</td>\n",
              "      <td>-82.10</td>\n",
              "      <td>-174.54</td>\n",
              "      <td>-95.23</td>\n",
              "      <td>-162.68</td>\n",
              "      <td>-36.79</td>\n",
              "      <td>30.63</td>\n",
              "    </tr>\n",
              "    <tr>\n",
              "      <th>3</th>\n",
              "      <td>-826.00</td>\n",
              "      <td>-827.31</td>\n",
              "      <td>-846.12</td>\n",
              "      <td>-836.03</td>\n",
              "      <td>-745.50</td>\n",
              "      <td>-784.69</td>\n",
              "      <td>-791.22</td>\n",
              "      <td>-746.50</td>\n",
              "      <td>-709.53</td>\n",
              "      <td>-679.56</td>\n",
              "      <td>...</td>\n",
              "      <td>122.34</td>\n",
              "      <td>93.03</td>\n",
              "      <td>93.03</td>\n",
              "      <td>68.81</td>\n",
              "      <td>9.81</td>\n",
              "      <td>20.75</td>\n",
              "      <td>20.25</td>\n",
              "      <td>-120.81</td>\n",
              "      <td>-257.56</td>\n",
              "      <td>-215.41</td>\n",
              "    </tr>\n",
              "    <tr>\n",
              "      <th>4</th>\n",
              "      <td>-39.57</td>\n",
              "      <td>-15.88</td>\n",
              "      <td>-9.16</td>\n",
              "      <td>-6.37</td>\n",
              "      <td>-16.13</td>\n",
              "      <td>-24.05</td>\n",
              "      <td>-0.90</td>\n",
              "      <td>-45.20</td>\n",
              "      <td>-5.04</td>\n",
              "      <td>14.62</td>\n",
              "      <td>...</td>\n",
              "      <td>-37.87</td>\n",
              "      <td>-61.85</td>\n",
              "      <td>-27.15</td>\n",
              "      <td>-21.18</td>\n",
              "      <td>-33.76</td>\n",
              "      <td>-85.34</td>\n",
              "      <td>-81.46</td>\n",
              "      <td>-61.98</td>\n",
              "      <td>-69.34</td>\n",
              "      <td>-17.84</td>\n",
              "    </tr>\n",
              "    <tr>\n",
              "      <th>...</th>\n",
              "      <td>...</td>\n",
              "      <td>...</td>\n",
              "      <td>...</td>\n",
              "      <td>...</td>\n",
              "      <td>...</td>\n",
              "      <td>...</td>\n",
              "      <td>...</td>\n",
              "      <td>...</td>\n",
              "      <td>...</td>\n",
              "      <td>...</td>\n",
              "      <td>...</td>\n",
              "      <td>...</td>\n",
              "      <td>...</td>\n",
              "      <td>...</td>\n",
              "      <td>...</td>\n",
              "      <td>...</td>\n",
              "      <td>...</td>\n",
              "      <td>...</td>\n",
              "      <td>...</td>\n",
              "      <td>...</td>\n",
              "      <td>...</td>\n",
              "    </tr>\n",
              "    <tr>\n",
              "      <th>565</th>\n",
              "      <td>374.46</td>\n",
              "      <td>326.06</td>\n",
              "      <td>319.87</td>\n",
              "      <td>338.23</td>\n",
              "      <td>251.54</td>\n",
              "      <td>209.84</td>\n",
              "      <td>186.35</td>\n",
              "      <td>167.46</td>\n",
              "      <td>135.45</td>\n",
              "      <td>107.28</td>\n",
              "      <td>...</td>\n",
              "      <td>-123.55</td>\n",
              "      <td>-166.90</td>\n",
              "      <td>-222.44</td>\n",
              "      <td>-209.71</td>\n",
              "      <td>-180.16</td>\n",
              "      <td>-166.83</td>\n",
              "      <td>-235.66</td>\n",
              "      <td>-213.63</td>\n",
              "      <td>-205.99</td>\n",
              "      <td>-194.07</td>\n",
              "    </tr>\n",
              "    <tr>\n",
              "      <th>566</th>\n",
              "      <td>-0.36</td>\n",
              "      <td>4.96</td>\n",
              "      <td>6.25</td>\n",
              "      <td>4.20</td>\n",
              "      <td>8.26</td>\n",
              "      <td>-9.53</td>\n",
              "      <td>-10.10</td>\n",
              "      <td>-4.54</td>\n",
              "      <td>-11.55</td>\n",
              "      <td>-10.48</td>\n",
              "      <td>...</td>\n",
              "      <td>-12.40</td>\n",
              "      <td>-5.99</td>\n",
              "      <td>-17.94</td>\n",
              "      <td>-11.96</td>\n",
              "      <td>-12.11</td>\n",
              "      <td>-13.68</td>\n",
              "      <td>-3.59</td>\n",
              "      <td>-5.32</td>\n",
              "      <td>-10.98</td>\n",
              "      <td>-11.24</td>\n",
              "    </tr>\n",
              "    <tr>\n",
              "      <th>567</th>\n",
              "      <td>-54.01</td>\n",
              "      <td>-44.13</td>\n",
              "      <td>-41.23</td>\n",
              "      <td>-42.82</td>\n",
              "      <td>-39.47</td>\n",
              "      <td>-24.88</td>\n",
              "      <td>-31.14</td>\n",
              "      <td>-24.71</td>\n",
              "      <td>-13.12</td>\n",
              "      <td>-14.78</td>\n",
              "      <td>...</td>\n",
              "      <td>-0.73</td>\n",
              "      <td>-1.64</td>\n",
              "      <td>1.58</td>\n",
              "      <td>-4.82</td>\n",
              "      <td>-11.93</td>\n",
              "      <td>-17.14</td>\n",
              "      <td>-4.25</td>\n",
              "      <td>5.47</td>\n",
              "      <td>14.46</td>\n",
              "      <td>18.70</td>\n",
              "    </tr>\n",
              "    <tr>\n",
              "      <th>568</th>\n",
              "      <td>91.36</td>\n",
              "      <td>85.60</td>\n",
              "      <td>48.81</td>\n",
              "      <td>48.69</td>\n",
              "      <td>70.05</td>\n",
              "      <td>22.30</td>\n",
              "      <td>11.63</td>\n",
              "      <td>37.86</td>\n",
              "      <td>28.27</td>\n",
              "      <td>-4.36</td>\n",
              "      <td>...</td>\n",
              "      <td>2.44</td>\n",
              "      <td>11.53</td>\n",
              "      <td>-16.42</td>\n",
              "      <td>-17.86</td>\n",
              "      <td>21.10</td>\n",
              "      <td>-10.25</td>\n",
              "      <td>-37.06</td>\n",
              "      <td>-8.43</td>\n",
              "      <td>-6.48</td>\n",
              "      <td>17.60</td>\n",
              "    </tr>\n",
              "    <tr>\n",
              "      <th>569</th>\n",
              "      <td>3071.19</td>\n",
              "      <td>2782.53</td>\n",
              "      <td>2608.69</td>\n",
              "      <td>2325.47</td>\n",
              "      <td>2089.37</td>\n",
              "      <td>1769.56</td>\n",
              "      <td>1421.09</td>\n",
              "      <td>1142.09</td>\n",
              "      <td>902.31</td>\n",
              "      <td>714.47</td>\n",
              "      <td>...</td>\n",
              "      <td>695.41</td>\n",
              "      <td>865.97</td>\n",
              "      <td>882.41</td>\n",
              "      <td>1203.06</td>\n",
              "      <td>1293.03</td>\n",
              "      <td>1354.41</td>\n",
              "      <td>-192.81</td>\n",
              "      <td>-277.22</td>\n",
              "      <td>-69.63</td>\n",
              "      <td>121.56</td>\n",
              "    </tr>\n",
              "  </tbody>\n",
              "</table>\n",
              "<p>570 rows × 3197 columns</p>\n",
              "</div>"
            ],
            "text/plain": [
              "      FLUX.1   FLUX.2   FLUX.3   FLUX.4   FLUX.5   FLUX.6   FLUX.7   FLUX.8  \\\n",
              "0     119.88   100.21    86.46    48.68    46.12    39.39    18.57     6.98   \n",
              "1    5736.59  5699.98  5717.16  5692.73  5663.83  5631.16  5626.39  5569.47   \n",
              "2     844.48   817.49   770.07   675.01   605.52   499.45   440.77   362.95   \n",
              "3    -826.00  -827.31  -846.12  -836.03  -745.50  -784.69  -791.22  -746.50   \n",
              "4     -39.57   -15.88    -9.16    -6.37   -16.13   -24.05    -0.90   -45.20   \n",
              "..       ...      ...      ...      ...      ...      ...      ...      ...   \n",
              "565   374.46   326.06   319.87   338.23   251.54   209.84   186.35   167.46   \n",
              "566    -0.36     4.96     6.25     4.20     8.26    -9.53   -10.10    -4.54   \n",
              "567   -54.01   -44.13   -41.23   -42.82   -39.47   -24.88   -31.14   -24.71   \n",
              "568    91.36    85.60    48.81    48.69    70.05    22.30    11.63    37.86   \n",
              "569  3071.19  2782.53  2608.69  2325.47  2089.37  1769.56  1421.09  1142.09   \n",
              "\n",
              "      FLUX.9  FLUX.10  ...  FLUX.3188  FLUX.3189  FLUX.3190  FLUX.3191  \\\n",
              "0       6.63   -21.97  ...      14.52      19.29      14.44      -1.62   \n",
              "1    5550.44  5458.80  ...    -581.91    -984.09   -1230.89   -1600.45   \n",
              "2     207.27   150.46  ...      17.82     -51.66     -48.29     -59.99   \n",
              "3    -709.53  -679.56  ...     122.34      93.03      93.03      68.81   \n",
              "4      -5.04    14.62  ...     -37.87     -61.85     -27.15     -21.18   \n",
              "..       ...      ...  ...        ...        ...        ...        ...   \n",
              "565   135.45   107.28  ...    -123.55    -166.90    -222.44    -209.71   \n",
              "566   -11.55   -10.48  ...     -12.40      -5.99     -17.94     -11.96   \n",
              "567   -13.12   -14.78  ...      -0.73      -1.64       1.58      -4.82   \n",
              "568    28.27    -4.36  ...       2.44      11.53     -16.42     -17.86   \n",
              "569   902.31   714.47  ...     695.41     865.97     882.41    1203.06   \n",
              "\n",
              "     FLUX.3192  FLUX.3193  FLUX.3194  FLUX.3195  FLUX.3196  FLUX.3197  \n",
              "0        13.33      45.50      31.93      35.78     269.43      57.72  \n",
              "1     -1824.53   -2061.17   -2265.98   -2366.19   -2294.86   -2034.72  \n",
              "2       -82.10    -174.54     -95.23    -162.68     -36.79      30.63  \n",
              "3         9.81      20.75      20.25    -120.81    -257.56    -215.41  \n",
              "4       -33.76     -85.34     -81.46     -61.98     -69.34     -17.84  \n",
              "..         ...        ...        ...        ...        ...        ...  \n",
              "565    -180.16    -166.83    -235.66    -213.63    -205.99    -194.07  \n",
              "566     -12.11     -13.68      -3.59      -5.32     -10.98     -11.24  \n",
              "567     -11.93     -17.14      -4.25       5.47      14.46      18.70  \n",
              "568      21.10     -10.25     -37.06      -8.43      -6.48      17.60  \n",
              "569    1293.03    1354.41    -192.81    -277.22     -69.63     121.56  \n",
              "\n",
              "[570 rows x 3197 columns]"
            ]
          },
          "execution_count": 9,
          "metadata": {},
          "output_type": "execute_result"
        }
      ],
      "source": [
        "# Student Action: Using the 'iloc[]' function, extract the feature variables from the test dataset.\n",
        "x_test = exo_test_df.iloc[:,1:]\n",
        "x_test"
      ]
    },
    {
      "cell_type": "code",
      "execution_count": 10,
      "metadata": {
        "colab": {
          "base_uri": "https://localhost:8080/"
        },
        "id": "Ijdmp-_8Vk2d",
        "outputId": "90d99491-9c2a-46e9-8604-7cd2c1044c4c"
      },
      "outputs": [
        {
          "name": "stdout",
          "output_type": "stream",
          "text": [
            "(570, 3197)\n",
            "(5087, 3197)\n"
          ]
        }
      ],
      "source": [
        "print(x_test.shape)\n",
        "print(x_train.shape)"
      ]
    },
    {
      "cell_type": "markdown",
      "metadata": {
        "id": "ZsZe8fyeiXBG"
      },
      "source": [
        "Let's also extract the target variable from the test dataset so that we can compare the actual target values with the predicted values later."
      ]
    },
    {
      "cell_type": "code",
      "execution_count": 11,
      "metadata": {
        "colab": {
          "base_uri": "https://localhost:8080/"
        },
        "id": "wVMq86Y5p5ol",
        "outputId": "dba4509a-9b2c-4946-bb9c-d02c3e031ad0"
      },
      "outputs": [
        {
          "data": {
            "text/plain": [
              "0      2\n",
              "1      2\n",
              "2      2\n",
              "3      2\n",
              "4      2\n",
              "      ..\n",
              "565    1\n",
              "566    1\n",
              "567    1\n",
              "568    1\n",
              "569    1\n",
              "Name: LABEL, Length: 570, dtype: int64"
            ]
          },
          "execution_count": 11,
          "metadata": {},
          "output_type": "execute_result"
        }
      ],
      "source": [
        "# Student Action: Using the 'iloc[]' function, extract the target variable from the test dataset.\n",
        "y_test = exo_test_df.iloc[:,0]\n",
        "y_test"
      ]
    },
    {
      "cell_type": "markdown",
      "metadata": {
        "id": "5f3OVTo4ioQk"
      },
      "source": [
        "---"
      ]
    },
    {
      "cell_type": "markdown",
      "metadata": {
        "id": "Xz8BPprpipOq"
      },
      "source": [
        "#### Activity 6: The `predict()` Function^^^\n",
        "\n",
        "Now, let's make predictions on the test dataset by calling the `predict()` function with the features variables of the test dataset as an input."
      ]
    },
    {
      "cell_type": "code",
      "execution_count": 12,
      "metadata": {
        "colab": {
          "base_uri": "https://localhost:8080/"
        },
        "id": "VF_lb5Fcp8zd",
        "outputId": "ac1f2eb9-c92d-42f3-a8fa-030a679d2c0c"
      },
      "outputs": [
        {
          "data": {
            "text/plain": [
              "array([1, 1, 1, 1, 1, 1, 1, 1, 1, 1, 1, 1, 1, 1, 1, 1, 1, 1, 1, 1, 1, 1,\n",
              "       1, 1, 1, 1, 1, 1, 1, 1, 1, 1, 1, 1, 1, 1, 1, 1, 1, 1, 1, 1, 1, 1,\n",
              "       1, 1, 1, 1, 1, 1, 1, 1, 1, 1, 1, 1, 1, 1, 1, 1, 1, 1, 1, 1, 1, 1,\n",
              "       1, 1, 1, 1, 1, 1, 1, 1, 1, 1, 1, 1, 1, 1, 1, 1, 1, 1, 1, 1, 1, 1,\n",
              "       1, 1, 1, 1, 1, 1, 1, 1, 1, 1, 1, 1, 1, 1, 1, 1, 1, 1, 1, 1, 1, 1,\n",
              "       1, 1, 1, 1, 1, 1, 1, 1, 1, 1, 1, 1, 1, 1, 1, 1, 1, 1, 1, 1, 1, 1,\n",
              "       1, 1, 1, 1, 1, 1, 1, 1, 1, 1, 1, 1, 1, 1, 1, 1, 1, 1, 1, 1, 1, 1,\n",
              "       1, 1, 1, 1, 1, 1, 1, 1, 1, 1, 1, 1, 1, 1, 1, 1, 1, 1, 1, 1, 1, 1,\n",
              "       1, 1, 1, 1, 1, 1, 1, 1, 1, 1, 1, 1, 1, 1, 1, 1, 1, 1, 1, 1, 1, 1,\n",
              "       1, 1, 1, 1, 1, 1, 1, 1, 1, 1, 1, 1, 1, 1, 1, 1, 1, 1, 1, 1, 1, 1,\n",
              "       1, 1, 1, 1, 1, 1, 1, 1, 1, 1, 1, 1, 1, 1, 1, 1, 1, 1, 1, 1, 1, 1,\n",
              "       1, 1, 1, 1, 1, 1, 1, 1, 1, 1, 1, 1, 1, 1, 1, 1, 1, 1, 1, 1, 1, 1,\n",
              "       1, 1, 1, 1, 1, 1, 1, 1, 1, 1, 1, 1, 1, 1, 1, 1, 1, 1, 1, 1, 1, 1,\n",
              "       1, 1, 1, 1, 1, 1, 1, 1, 1, 1, 1, 1, 1, 1, 1, 1, 1, 1, 1, 1, 1, 1,\n",
              "       1, 1, 1, 1, 1, 1, 1, 1, 1, 1, 1, 1, 1, 1, 1, 1, 1, 1, 1, 1, 1, 1,\n",
              "       1, 1, 1, 1, 1, 1, 1, 1, 1, 1, 1, 1, 1, 1, 1, 1, 1, 1, 1, 1, 1, 1,\n",
              "       1, 1, 1, 1, 1, 1, 1, 1, 1, 1, 1, 1, 1, 1, 1, 1, 1, 1, 1, 1, 1, 1,\n",
              "       1, 1, 1, 1, 1, 1, 1, 1, 1, 1, 1, 1, 1, 1, 1, 1, 1, 1, 1, 1, 1, 1,\n",
              "       1, 1, 1, 1, 1, 1, 1, 1, 1, 1, 1, 1, 1, 1, 1, 1, 1, 1, 1, 1, 1, 1,\n",
              "       1, 1, 1, 1, 1, 1, 1, 1, 1, 1, 1, 1, 1, 1, 1, 1, 1, 1, 1, 1, 1, 1,\n",
              "       1, 1, 1, 1, 1, 1, 1, 1, 1, 1, 1, 1, 1, 1, 1, 1, 1, 1, 1, 1, 1, 1,\n",
              "       1, 1, 1, 1, 1, 1, 1, 1, 1, 1, 1, 1, 1, 1, 1, 1, 1, 1, 1, 1, 1, 1,\n",
              "       1, 1, 1, 1, 1, 1, 1, 1, 1, 1, 1, 1, 1, 1, 1, 1, 1, 1, 1, 1, 1, 1,\n",
              "       1, 1, 1, 1, 1, 1, 1, 1, 1, 1, 1, 1, 1, 1, 1, 1, 1, 1, 1, 1, 1, 1,\n",
              "       1, 1, 1, 1, 1, 1, 1, 1, 1, 1, 1, 1, 1, 1, 1, 1, 1, 1, 1, 1, 1, 1,\n",
              "       1, 1, 1, 1, 1, 1, 1, 1, 1, 1, 1, 1, 1, 1, 1, 1, 1, 1, 1, 1])"
            ]
          },
          "execution_count": 12,
          "metadata": {},
          "output_type": "execute_result"
        }
      ],
      "source": [
        "# Student Action: Make predictions on the test dataset by using the 'predict()' function.\n",
        "prediction = rf_clf.predict(x_test)\n",
        "prediction"
      ]
    },
    {
      "cell_type": "markdown",
      "metadata": {
        "id": "-pKzHPiEjCSI"
      },
      "source": [
        "The predict function returns a NumPy array of the predicted values. You can verify it using the `type()` function."
      ]
    },
    {
      "cell_type": "code",
      "execution_count": 13,
      "metadata": {
        "colab": {
          "base_uri": "https://localhost:8080/"
        },
        "id": "zOz8o4fJp-_W",
        "outputId": "4d140c87-c05e-4d08-a2ce-e9d2bbe74c75"
      },
      "outputs": [
        {
          "name": "stdout",
          "output_type": "stream",
          "text": [
            "<class 'numpy.ndarray'>\n"
          ]
        }
      ],
      "source": [
        "# Student Action: Using the 'type()' function, verify that the predicted values are obtained in the form of a NumPy array.\n",
        "print(type(prediction))"
      ]
    },
    {
      "cell_type": "markdown",
      "metadata": {
        "id": "DhdBmNx8jWQv"
      },
      "source": [
        "The actual target values are stored in a Pandas series. So, for the sake of consistency, let's convert the NumPy array of the predicted values into a Pandas series."
      ]
    },
    {
      "cell_type": "code",
      "execution_count": 14,
      "metadata": {
        "colab": {
          "base_uri": "https://localhost:8080/"
        },
        "id": "xF3skQa0qBeO",
        "outputId": "7ed8c713-5dbe-4b85-a120-a1d2113ee452"
      },
      "outputs": [
        {
          "data": {
            "text/plain": [
              "0      1\n",
              "1      1\n",
              "2      1\n",
              "3      1\n",
              "4      1\n",
              "      ..\n",
              "565    1\n",
              "566    1\n",
              "567    1\n",
              "568    1\n",
              "569    1\n",
              "Length: 570, dtype: int64"
            ]
          },
          "execution_count": 14,
          "metadata": {},
          "output_type": "execute_result"
        }
      ],
      "source": [
        "# Student Action: Convert the NumPy array of predicted values into a Pandas series.\n",
        "pd_series = pd.Series(prediction)\n",
        "pd_series"
      ]
    },
    {
      "cell_type": "markdown",
      "metadata": {
        "id": "nQwrexkrjrdE"
      },
      "source": [
        "Now, let's count the number of stars classified as `1` and `2`."
      ]
    },
    {
      "cell_type": "code",
      "execution_count": 15,
      "metadata": {
        "colab": {
          "base_uri": "https://localhost:8080/"
        },
        "id": "Qk7UnroAqTUT",
        "outputId": "df6f5ddc-c3aa-4eb7-dacd-eb45232160f1"
      },
      "outputs": [
        {
          "data": {
            "text/plain": [
              "1    570\n",
              "Name: count, dtype: int64"
            ]
          },
          "execution_count": 15,
          "metadata": {},
          "output_type": "execute_result"
        }
      ],
      "source": [
        "# Student Action: Using the 'value_counts()' function, count the number of times 1 and 2 occur in the predicted values.\n",
        "pd_series.value_counts()"
      ]
    },
    {
      "cell_type": "markdown",
      "metadata": {
        "id": "dfKiAcaMj5xF"
      },
      "source": [
        "As you can see, we did not get the expected results. The model should have classified all the stars having a planet as `2`. Ideally, the Random Forest Classifier model should have classified `565` values as `1` and the remaining `5` values as `2`.\n",
        "\n",
        "In this case, even though the accuracy of a prediction model is high but according to the problem statement, it is not giving the desired result. Hence, **accuracy alone is not the metric to test the efficacy of a prediction model.**\n",
        "\n",
        "In the next class, we will try to investigate why Random Forest Classifier failed to classify even a single star as `2`. Based on the investigation, we will try to improve the model and then deploy it again."
      ]
    },
    {
      "cell_type": "code",
      "execution_count": 16,
      "metadata": {
        "colab": {
          "base_uri": "https://localhost:8080/"
        },
        "id": "j7CYlKb-R3VM",
        "outputId": "cb2b24c4-07fd-4883-926b-3bcd077ce55c"
      },
      "outputs": [
        {
          "ename": "ModuleNotFoundError",
          "evalue": "No module named 'xgboost'",
          "output_type": "error",
          "traceback": [
            "\u001b[31m---------------------------------------------------------------------------\u001b[39m",
            "\u001b[31mModuleNotFoundError\u001b[39m                       Traceback (most recent call last)",
            "\u001b[36mCell\u001b[39m\u001b[36m \u001b[39m\u001b[32mIn[16]\u001b[39m\u001b[32m, line 1\u001b[39m\n\u001b[32m----> \u001b[39m\u001b[32m1\u001b[39m \u001b[38;5;28;01mimport\u001b[39;00m\u001b[38;5;250m \u001b[39m\u001b[34;01mxgboost\u001b[39;00m\u001b[38;5;250m \u001b[39m\u001b[38;5;28;01mas\u001b[39;00m\u001b[38;5;250m \u001b[39m\u001b[34;01mxg\u001b[39;00m\n\u001b[32m      3\u001b[39m md = xg.XGBClassifier()\n\u001b[32m      4\u001b[39m md.fit(x_train,y_train)\n",
            "\u001b[31mModuleNotFoundError\u001b[39m: No module named 'xgboost'"
          ]
        }
      ],
      "source": [
        "import xgboost as xg\n",
        "\n",
        "md = xg.XGBClassifier()\n",
        "md.fit(x_train,y_train)\n",
        "y_pred = md.predict(x_test)\n",
        "print(pd.Series(y_pred).head(10))\n",
        "print(pd.Series(y_pred).value_counts())"
      ]
    },
    {
      "cell_type": "markdown",
      "metadata": {
        "id": "H3WclLnZkFfz"
      },
      "source": [
        "---"
      ]
    }
  ],
  "metadata": {
    "colab": {
      "provenance": []
    },
    "kernelspec": {
      "display_name": "Python 3",
      "name": "python3"
    },
    "language_info": {
      "codemirror_mode": {
        "name": "ipython",
        "version": 3
      },
      "file_extension": ".py",
      "mimetype": "text/x-python",
      "name": "python",
      "nbconvert_exporter": "python",
      "pygments_lexer": "ipython3",
      "version": "3.13.2"
    }
  },
  "nbformat": 4,
  "nbformat_minor": 0
}
